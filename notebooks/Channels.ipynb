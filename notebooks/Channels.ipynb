{
 "cells": [
  {
   "cell_type": "markdown",
   "metadata": {},
   "source": [
    "# Buffered Channels != Queues\n",
    "\n",
    "Channels are the pipes that connect concurrent goroutines. You can send values into channels from one goroutine and receive those values into another goroutine."
   ]
  },
  {
   "cell_type": "code",
   "execution_count": null,
   "metadata": {},
   "outputs": [],
   "source": [
    "import (\n",
    "    \"fmt\"\n",
    "    \"time\"\n",
    ")"
   ]
  },
  {
   "cell_type": "markdown",
   "metadata": {},
   "source": [
    "Using channels makes it very easy to create a producer-consumer setup.\n",
    "\n",
    "First, let's create a consumer function.  \n",
    "This function reads values from the channel (a for loop) and prints out the value on n X 2."
   ]
  },
  {
   "cell_type": "code",
   "execution_count": null,
   "metadata": {},
   "outputs": [],
   "source": [
    "func consumer(msgs chan int) {\n",
    "    for m := range msgs {\n",
    "        fmt.Printf(\"channel -> %d\\n\", m)\n",
    "        fmt.Printf(\"[consumer] %d X 2 = %d\\n\", m, m * 2)\n",
    "    }\n",
    "}"
   ]
  },
  {
   "cell_type": "markdown",
   "metadata": {},
   "source": [
    "Next, we will create the producer function.  \n",
    "This function writes numbers in the channel. When it's done writing number into the channel it will close the channel to signal all connected goroutines that we are done."
   ]
  },
  {
   "cell_type": "code",
   "execution_count": null,
   "metadata": {},
   "outputs": [],
   "source": [
    "func producer(msgs chan int) {\n",
    "    // Write number 0...10 to the channel\n",
    "    for n := 0; n < 10; n++ {\n",
    "        fmt.Printf(\"channel <- %d\\n\", n)\n",
    "        msgs <- n\n",
    "        fmt.Printf(\"[producer] value %d written to channel\\n\", n)\n",
    "    }\n",
    "    // Close the channel to signal we are done\n",
    "    close(msgs)\n",
    "}"
   ]
  },
  {
   "cell_type": "markdown",
   "metadata": {},
   "source": [
    "Create a channel that will pass data of type int"
   ]
  },
  {
   "cell_type": "code",
   "execution_count": null,
   "metadata": {},
   "outputs": [],
   "source": [
    "messages := make(chan int)"
   ]
  },
  {
   "cell_type": "markdown",
   "metadata": {},
   "source": [
    "Run the worker and producer in parallel"
   ]
  },
  {
   "cell_type": "code",
   "execution_count": null,
   "metadata": {},
   "outputs": [],
   "source": [
    "go worker(messages)\n",
    "go producer(messages)"
   ]
  }
 ],
 "metadata": {
  "kernelspec": {
   "display_name": "Go (lgo)",
   "language": "go",
   "name": "lgo"
  },
  "language_info": {
   "file_extension": "",
   "mimetype": "",
   "name": "go",
   "version": ""
  }
 },
 "nbformat": 4,
 "nbformat_minor": 2
}
