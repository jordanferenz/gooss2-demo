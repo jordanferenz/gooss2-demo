{
 "cells": [
  {
   "cell_type": "markdown",
   "metadata": {},
   "source": [
    "# Don't Panic!\n",
    "\n",
    "Go has several flow control commands (if, for, etc.). But in case something really bad happened, we can put the application in a panicking mode.\n",
    "\n",
    "When the function F calls panic, execution of F stops, any deferred functions in F are executed normally, and then F returns to its caller. To the caller, F then behaves like a call to panic. The process continues up the stack until all functions in the current goroutine have returned, at which point the program crashes. Panics can be initiated by invoking panic directly. They can also be caused by runtime errors, such as out-of-bounds array accesses."
   ]
  },
  {
   "cell_type": "code",
   "execution_count": null,
   "metadata": {},
   "outputs": [],
   "source": [
    "import (\n",
    "    \"fmt\"\n",
    "    \"errors\"\n",
    ")"
   ]
  },
  {
   "cell_type": "markdown",
   "metadata": {},
   "source": [
    "Let's create a function that causes panic:"
   ]
  },
  {
   "cell_type": "code",
   "execution_count": null,
   "metadata": {},
   "outputs": [],
   "source": [
    "func scareMeOff() {\n",
    "    panic (\"Booo\")\n",
    "}"
   ]
  },
  {
   "cell_type": "markdown",
   "metadata": {},
   "source": [
    "To handel a panicking goroutines, Go has a recover function.\n",
    "\n",
    "Recover is only useful inside deferred functions. During normal execution, a call to recover will return nil and have no other effect. If the current goroutine is panicking, a call to recover will capture the value given to panic and resume normal execution.\n",
    "\n",
    "Let's create a function to recover from panics:"
   ]
  },
  {
   "cell_type": "code",
   "execution_count": null,
   "metadata": {},
   "outputs": [],
   "source": [
    "func beBrave() {\n",
    "    if r := recover(); r != nil {\n",
    "        fmt.Printf(\"We are not frighten by a simple \\\"%s\\\"\\n\", r)\n",
    "    }\n",
    "}"
   ]
  },
  {
   "cell_type": "markdown",
   "metadata": {},
   "source": [
    "Recover can only work when running in the same goroutine that is panicking"
   ]
  },
  {
   "cell_type": "code",
   "execution_count": null,
   "metadata": {},
   "outputs": [],
   "source": [
    "// NotScary runs the recover and panic funcitons in the same goroutine, therefore will manage to recover\n",
    "func NotScary() {\n",
    "    defer beBrave()\n",
    "    \n",
    "    scareMeOff()\n",
    "}\n",
    "\n",
    "go NotScary()"
   ]
  },
  {
   "cell_type": "code",
   "execution_count": null,
   "metadata": {},
   "outputs": [],
   "source": [
    "// Scary runs the recover and panic functions on seperate goroutines and threfore fails to recover the panic\n",
    "func Scary() {\n",
    "    defer beBrave()\n",
    "    \n",
    "    go scareMeOff() // <----- Panic happens in seperate goroutine\n",
    "}\n",
    "\n",
    "go Scary()"
   ]
  }
 ],
 "metadata": {
  "kernelspec": {
   "display_name": "Go (lgo)",
   "language": "go",
   "name": "lgo"
  },
  "language_info": {
   "file_extension": "",
   "mimetype": "",
   "name": "go",
   "version": ""
  }
 },
 "nbformat": 4,
 "nbformat_minor": 2
}
