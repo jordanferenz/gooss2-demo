{
 "cells": [
  {
   "cell_type": "markdown",
   "metadata": {},
   "source": [
    "# JSON Memory Leak\n",
    "\n",
    "\n",
    "Dealing with JSON is easy peasy in Go thanks to the JSON package."
   ]
  },
  {
   "cell_type": "code",
   "execution_count": null,
   "metadata": {},
   "outputs": [],
   "source": [
    "import (\n",
    "    \"fmt\"\n",
    "    \"runtime\"\n",
    "    \"encoding/json\"\n",
    "    \"demo\"\n",
    ")"
   ]
  },
  {
   "cell_type": "markdown",
   "metadata": {},
   "source": [
    "It is easier to notice the memory leak when trying to encode a large structure. We have a demo Post structure we can initiate with lots of text."
   ]
  },
  {
   "cell_type": "code",
   "execution_count": null,
   "metadata": {},
   "outputs": [],
   "source": [
    "largePost, err := demo.LoadPost()\n",
    "if err != nil {\n",
    "    panic (\"Something in this demo went very wrong!\")\n",
    "}"
   ]
  },
  {
   "cell_type": "markdown",
   "metadata": {},
   "source": [
    "We will define a function, **toString** that will get a Post structure and return its JSON representation as a string (and not byte array)."
   ]
  },
  {
   "cell_type": "code",
   "execution_count": null,
   "metadata": {},
   "outputs": [],
   "source": [
    "func toString(p *demo.Post) (output string, err error) {\n",
    "    \n",
    "    // Marshal the long post into json byte array\n",
    "    byteJSON, err := json.Marshal(p)\n",
    "    if err != nil {\n",
    "       return output, err\n",
    "    }\n",
    "    \n",
    "    // Convert byte array to string\n",
    "    output = string(byteJSON)\n",
    "    \n",
    "    return\n",
    "}"
   ]
  },
  {
   "cell_type": "markdown",
   "metadata": {},
   "source": [
    "Let's encode our large post structure several times and see what happens to our memory usage."
   ]
  },
  {
   "cell_type": "code",
   "execution_count": null,
   "metadata": {},
   "outputs": [],
   "source": [
    "var mem runtime.MemStats\n",
    "\n",
    "for i :=0; i < 10; i++ {\n",
    "    // Convert post structure to string\n",
    "    ToString(&post)\n",
    "\n",
    "    // Check memeory usage\n",
    "    runtime.ReadMemStats(&mem)\n",
    "    fmt.Printf(\"Iteration: %d\\t\\t Allocated Memory: %.2f MB\\n\", i, float64(mem.Alloc) / float64(1048576))\n",
    "}"
   ]
  },
  {
   "cell_type": "markdown",
   "metadata": {},
   "source": [
    "We can fix the memory leak by simply resetting the byteJSON variable when it's not used anymore.\n",
    "\n",
    "Let's try it now :-)"
   ]
  }
 ],
 "metadata": {
  "kernelspec": {
   "display_name": "Go (lgo)",
   "language": "go",
   "name": "lgo"
  },
  "language_info": {
   "file_extension": "",
   "mimetype": "",
   "name": "go",
   "version": ""
  }
 },
 "nbformat": 4,
 "nbformat_minor": 2
}
