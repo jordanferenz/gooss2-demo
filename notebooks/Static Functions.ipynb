{
 "cells": [
  {
   "cell_type": "markdown",
   "metadata": {},
   "source": [
    "# Static Functions\n",
    "\n",
    "Go does not have a class type, and therefore does not purely have the notion of static functions. However, Go allows to attach functions to a type."
   ]
  },
  {
   "cell_type": "code",
   "execution_count": null,
   "metadata": {},
   "outputs": [],
   "source": [
    "import \"fmt\""
   ]
  },
  {
   "cell_type": "markdown",
   "metadata": {},
   "source": [
    "Let's create a simple user type, and attach to it a function. The function checks if the user is admin. This could be useful for checking permissions."
   ]
  },
  {
   "cell_type": "code",
   "execution_count": null,
   "metadata": {},
   "outputs": [],
   "source": [
    "type User struct {\n",
    "    Name string\n",
    "}\n",
    "\n",
    "func (u *User) IsAdmin() string {\n",
    "    fmt.Print(\"Checking if user is admin...\\n\")\n",
    "    if u.Name == \"Admin\" {\n",
    "        return \"yes\"\n",
    "    }\n",
    "    return \"no\"\n",
    "}"
   ]
  },
  {
   "cell_type": "markdown",
   "metadata": {},
   "source": [
    "## Running method on initiated object\n",
    "If we create an instance of the User type, we can test if the user is admin or not.\n",
    "\n",
    "Let's create a user with the \"Admin\" name and test it.\n",
    "\n",
    "**Note:** The variable we use is a pointer to User"
   ]
  },
  {
   "cell_type": "code",
   "execution_count": null,
   "metadata": {},
   "outputs": [],
   "source": [
    "// Create a pointer to an initiated User object\n",
    "var admin = &User{\"Admin\"}\n",
    "// Print variable's type\n",
    "fmt.Printf(\"Variable type is %T\\n\\n\", admin)\n",
    "// Check if user is admin\n",
    "_,_ = fmt.Printf(\"Is user admin? %s\\n\", admin.IsAdmin())"
   ]
  },
  {
   "cell_type": "markdown",
   "metadata": {},
   "source": [
    "## Running method on un-initiated object\n",
    "Since we called the IsAdmin on a pointer to User, let's try it on another pointer."
   ]
  },
  {
   "cell_type": "code",
   "execution_count": null,
   "metadata": {},
   "outputs": [],
   "source": [
    "// Create a pointer to an un-initiated User object\n",
    "var noUser *User\n",
    "// Print variable's type\n",
    "fmt.Printf(\"Variable type is %T\\n\\n\", noUser)\n",
    "// Check if user is admin\n",
    "fmt.Printf(\"Is user admin? %t\\n\", noUser.IsAdmin())"
   ]
  }
 ],
 "metadata": {
  "kernelspec": {
   "display_name": "Go (lgo)",
   "language": "go",
   "name": "lgo"
  },
  "language_info": {
   "file_extension": "",
   "mimetype": "",
   "name": "go",
   "version": ""
  }
 },
 "nbformat": 4,
 "nbformat_minor": 2
}
