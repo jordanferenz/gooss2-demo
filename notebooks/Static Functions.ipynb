{
 "cells": [
  {
   "cell_type": "markdown",
   "metadata": {},
   "source": [
    "# Static Functions\n",
    "\n",
    "Go does not have a class type, and therefore does not purely have the notion of static functions. However, Go allows to attach functions to a type."
   ]
  },
  {
   "cell_type": "code",
   "execution_count": 1,
   "metadata": {},
   "outputs": [],
   "source": [
    "import \"fmt\""
   ]
  },
  {
   "cell_type": "markdown",
   "metadata": {},
   "source": [
    "Let's create a simple user type, and attach to it a function. The function checks if the user is admin. This could be useful for checking permissions."
   ]
  },
  {
   "cell_type": "code",
   "execution_count": 4,
   "metadata": {},
   "outputs": [],
   "source": [
    "type User struct {\n",
    "    Name string\n",
    "}\n",
    "\n",
    "func (u *User) IsAdmin() string {\n",
    "    fmt.Print(\"Checking if user is admin...\\n\")\n",
    "    if u.Name == \"Admin\" {\n",
    "        return \"yes\"\n",
    "    }\n",
    "    return \"no\"\n",
    "}"
   ]
  },
  {
   "cell_type": "markdown",
   "metadata": {},
   "source": [
    "## Running method on initiated object\n",
    "If we create an instance of the User type, we can test if the user is admin or not.\n",
    "\n",
    "Let's create a user with the \"Admin\" name and test it.\n",
    "\n",
    "**Note:** The variable we use is a pointer to User"
   ]
  },
  {
   "cell_type": "code",
   "execution_count": 6,
   "metadata": {},
   "outputs": [
    {
     "name": "stdout",
     "output_type": "stream",
     "text": [
      "Variable type is *lgo_exec.User\n",
      "\n",
      "Checking if user is admin...\n",
      "Is user admin? yes\n"
     ]
    }
   ],
   "source": [
    "// Create a pointer to an initiated User object\n",
    "var admin = &User{\"Admin\"}\n",
    "// Print variable's type\n",
    "fmt.Printf(\"Variable type is %T\\n\\n\", admin)\n",
    "// Check if user is admin\n",
    "_,_ = fmt.Printf(\"Is user admin? %s\\n\", admin.IsAdmin())"
   ]
  },
  {
   "cell_type": "markdown",
   "metadata": {},
   "source": [
    "## Running method on un-initiated object\n",
    "Since we called the IsAdmin on a pointer to User, let's try it on another pointer."
   ]
  },
  {
   "cell_type": "code",
   "execution_count": 7,
   "metadata": {},
   "outputs": [
    {
     "name": "stdout",
     "output_type": "stream",
     "text": [
      "Variable type is *lgo_exec.User\n",
      "\n",
      "Checking if user is admin...\n"
     ]
    },
    {
     "name": "stderr",
     "output_type": "stream",
     "text": [
      "panic: runtime error: invalid memory address or nil pointer dereference\n",
      "\n",
      "goroutine 66 [running]:\n",
      "runtime/debug.Stack(0xc400000008, 0x7f490ddfd3f8, 0xc42032a7a0)\n",
      "\t/usr/local/go/src/runtime/debug/stack.go:24 +0xa9\n",
      "github.com/yunabe/lgo/core.(*resultCounter).recordResult(0xc42032a788, 0x7f490dd0f100, 0x7f490e11f460)\n",
      "\t/go/src/github.com/yunabe/lgo/core/core.go:94 +0xce\n",
      "github.com/yunabe/lgo/core.(*resultCounter).recordResultInDefer(0xc42032a788)\n",
      "\t/go/src/github.com/yunabe/lgo/core/core.go:99 +0x3b\n",
      "panic(0x7f490dd0f100, 0x7f490e11f460)\n",
      "\t/usr/local/go/src/runtime/panic.go:491 +0x294\n",
      "github.com/yunabe/lgo/sess7b2274696d65223a313532343438303739353833373938353937377d/exec4.(*User).IsAdmin(0x0, 0x15, 0xc420343778)\n",
      "\t/go/src/github.com/yunabe/lgo/sess7b2274696d65223a313532343438303739353833373938353937377d/exec4/src.go:11 +0x77\n",
      "github.com/yunabe/lgo/sess7b2274696d65223a313532343438303739353833373938353937377d/exec7.lgo_init()\n",
      "\t/go/src/github.com/yunabe/lgo/sess7b2274696d65223a313532343438303739353833373938353937377d/exec7/src.go:13 +0xf5\n",
      "github.com/yunabe/lgo/cmd/runner.loadShared.func3()\n",
      "\t/go/src/github.com/yunabe/lgo/cmd/runner/runner.go:62 +0x26\n",
      "github.com/yunabe/lgo/core.startExec.func1(0xc42032a750, 0xc42019a510)\n",
      "\t/go/src/github.com/yunabe/lgo/core/core.go:250 +0x83\n",
      "created by github.com/yunabe/lgo/core.startExec\n",
      "\t/go/src/github.com/yunabe/lgo/core/core.go:247 +0xcb\n",
      "main routine failed\n"
     ]
    }
   ],
   "source": [
    "// Create a pointer to an un-initiated User object\n",
    "var noUser *User\n",
    "// Print variable's type\n",
    "fmt.Printf(\"Variable type is %T\\n\\n\", noUser)\n",
    "// Check if user is admin\n",
    "fmt.Printf(\"Is user admin? %t\\n\", noUser.IsAdmin())"
   ]
  }
 ],
 "metadata": {
  "kernelspec": {
   "display_name": "Go (lgo)",
   "language": "go",
   "name": "lgo"
  },
  "language_info": {
   "file_extension": "",
   "mimetype": "",
   "name": "go",
   "version": ""
  }
 },
 "nbformat": 4,
 "nbformat_minor": 2
}
